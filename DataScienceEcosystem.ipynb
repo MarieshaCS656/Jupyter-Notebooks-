{
 "cells": [
  {
   "cell_type": "markdown",
   "id": "81d13ce2-acee-4779-9c9f-888ad18c3ea6",
   "metadata": {},
   "source": [
    "# Data Science Tools and Ecosystem"
   ]
  },
  {
   "cell_type": "markdown",
   "id": "4231e830-7e24-4f55-8ef6-6adf77a8124e",
   "metadata": {},
   "source": [
    "# In this notebook, Data Science Tools and Ecosystem are summarized."
   ]
  },
  {
   "cell_type": "markdown",
   "id": "b1086c63-df26-4a4b-8821-11b6bcf8d93f",
   "metadata": {},
   "source": [
    "Some of the popular languages that Data Scientists use are:\n",
    "ordered list:\n",
    "1. Python\n",
    "2. Java\n",
    "3. C++\n",
    "4. C"
   ]
  },
  {
   "cell_type": "markdown",
   "id": "7855fafc-6706-44da-8309-2498e1fc7edc",
   "metadata": {},
   "source": [
    "Some of the commonly used libraries used by Data Scientists include:\n",
    "ordered list:\n",
    "1. numpy\n",
    "2. seaborn\n",
    "3. pandas\n",
    "4. matplotlib"
   ]
  },
  {
   "cell_type": "markdown",
   "id": "d0b4fe45-58c3-4854-83c3-44cfbbf7773a",
   "metadata": {},
   "source": [
    "|Data Science Tools |\n",
    "|------------------ |\n",
    "|Jupyter notebook |\n",
    "|Rstudio |\n",
    "|VS Code |\n",
    "\n"
   ]
  },
  {
   "cell_type": "markdown",
   "id": "768a360a-8b91-4a22-8314-6587e3f594df",
   "metadata": {},
   "source": [
    "# Parentheses affect order\n",
    "print((10 + 5) * 2)  # Output: 30\n",
    "\n",
    "# Mixing integers and floats\n",
    "print(5 + 2.5)  # Output: 7.5\n",
    "print(10 / 4)   # Output: 2.5"
   ]
  },
  {
   "cell_type": "markdown",
   "id": "51bdbd5f-3454-4dee-95ac-9646d3f0dd16",
   "metadata": {},
   "source": [
    "#  This a simple arithmetic expression to mutiply then add integers\n",
    "(3*4)+5"
   ]
  },
  {
   "cell_type": "markdown",
   "id": "02b2db0c-223f-4b0c-84b1-07a20065bf33",
   "metadata": {},
   "source": [
    " # This will convert 200 minutes to hours by diving by 60\n",
    "(200/60)"
   ]
  },
  {
   "cell_type": "markdown",
   "id": "c2c1cd19-8438-42dd-a61c-23ff72f9a727",
   "metadata": {},
   "source": [
    "# Objectives:\n",
    "## unordered list:\n",
    "1. Python\n",
    "2. Java\n",
    "3. C++\n",
    "4. C"
   ]
  },
  {
   "cell_type": "markdown",
   "id": "f44b7a0a-9832-466d-8aa0-a64a7b060502",
   "metadata": {},
   "source": [
    "## Author\n",
    "mariesha.c.s"
   ]
  }
 ],
 "metadata": {
  "kernelspec": {
   "display_name": "Python 3 (ipykernel)",
   "language": "python",
   "name": "python3"
  },
  "language_info": {
   "codemirror_mode": {
    "name": "ipython",
    "version": 3
   },
   "file_extension": ".py",
   "mimetype": "text/x-python",
   "name": "python",
   "nbconvert_exporter": "python",
   "pygments_lexer": "ipython3",
   "version": "3.12.4"
  }
 },
 "nbformat": 4,
 "nbformat_minor": 5
}
